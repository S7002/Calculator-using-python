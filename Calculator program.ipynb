{
 "cells": [
  {
   "cell_type": "code",
   "execution_count": 12,
   "id": "25c06bf8",
   "metadata": {},
   "outputs": [
    {
     "name": "stdout",
     "output_type": "stream",
     "text": [
      "---------------------------------which option------------------------------\n",
      "1.(addition)\n",
      "2.(subtraction)\n",
      "3.(multiplication)\n",
      "4.(division)\n",
      "5.exit\n",
      "Enter your choice:4\n",
      "enter the first number:8\n",
      "enter the Second number:8\n",
      "--------------------------------------\n",
      "Result: 8 / 8 =  1.0\n",
      "--------------------------------------\n",
      "1.(addition)\n",
      "2.(subtraction)\n",
      "3.(multiplication)\n",
      "4.(division)\n",
      "5.exit\n",
      "Enter your choice:5\n",
      "exiting...............\n"
     ]
    }
   ],
   "source": [
    "def addition(x,y):\n",
    "    return x+y\n",
    "def subtraction(x,y):\n",
    "    return x-y\n",
    "def multiplication(x,y):\n",
    "    return x*y\n",
    "def division(x,y):\n",
    "    return x/y\n",
    "\n",
    "print(\"---------------------------------which option------------------------------\")\n",
    "print(\"1.(addition)\\n2.(subtraction)\\n3.(multiplication)\\n4.(division)\\n5.exit\")\n",
    "choice= int(input(\"Enter your choice:\"))\n",
    "while (True):\n",
    "    if(choice==1):\n",
    "        num1=int(input(\"enter the first number:\"))\n",
    "        num2=int(input(\"enter the Second number:\"))\n",
    "        print(\"--------------------------------------\")\n",
    "        print(\"Result:\",num1,\"+\",num2,\"= \",addition(num1,num2))\n",
    "    elif(choice==2):\n",
    "        num1=int(input(\"enter the first number:\"))\n",
    "        num2=int(input(\"enter the Second number:\"))\n",
    "        print(\"--------------------------------------\")\n",
    "        print(\"Result:\",num1,\"-\",num2,\"= \",subtraction(num1,num2))\n",
    "    elif(choice==3):\n",
    "        num1=int(input(\"enter the first number:\"))\n",
    "        num2=int(input(\"enter the Second number:\"))\n",
    "        print(\"--------------------------------------\")\n",
    "        print(\"Result:\",num1,\"*\",num2,\"= \",multiplication(num1,num2))\n",
    "    elif(choice==4):\n",
    "        num1=int(input(\"enter the first number:\"))\n",
    "        num2=int(input(\"enter the Second number:\"))\n",
    "        print(\"--------------------------------------\")\n",
    "        print(\"Result:\",num1,\"/\",num2,\"= \",division(num1,num2)) \n",
    "    elif(choice==5):\n",
    "        print(\"exiting...............\")\n",
    "        break\n",
    "    else:\n",
    "        print(\"--------------------------------------\")\n",
    "        print(\"invalid choice!!!!\")\n",
    "        \n",
    "    print(\"--------------------------------------\")\n",
    "    print(\"1.(addition)\\n2.(subtraction)\\n3.(multiplication)\\n4.(division)\\n5.exit\")\n",
    "    choice= int(input(\"Enter your choice:\"))\n",
    "    \n",
    "        "
   ]
  },
  {
   "cell_type": "code",
   "execution_count": null,
   "id": "fb48af5c",
   "metadata": {},
   "outputs": [],
   "source": []
  },
  {
   "cell_type": "code",
   "execution_count": null,
   "id": "06305759",
   "metadata": {},
   "outputs": [],
   "source": []
  }
 ],
 "metadata": {
  "kernelspec": {
   "display_name": "Python 3 (ipykernel)",
   "language": "python",
   "name": "python3"
  },
  "language_info": {
   "codemirror_mode": {
    "name": "ipython",
    "version": 3
   },
   "file_extension": ".py",
   "mimetype": "text/x-python",
   "name": "python",
   "nbconvert_exporter": "python",
   "pygments_lexer": "ipython3",
   "version": "3.11.4"
  }
 },
 "nbformat": 4,
 "nbformat_minor": 5
}
